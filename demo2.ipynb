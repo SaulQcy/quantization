{
 "cells": [
  {
   "cell_type": "code",
   "execution_count": 2,
   "id": "d332c1d9",
   "metadata": {},
   "outputs": [],
   "source": [
    "import torch\n",
    "import torchvision.models as models\n",
    "\n",
    "model = models.resnet18(pretrained=True)\n",
    "model.eval()\n",
    "\n",
    "dummy_input = torch.randn(1, 3, 224, 224)\n",
    "torch.onnx.export(model, dummy_input, \"resnet18.onnx\", opset_version=11)"
   ]
  },
  {
   "cell_type": "code",
   "execution_count": null,
   "id": "75eba139",
   "metadata": {},
   "outputs": [],
   "source": [
    "from rknn.api import RKNN\n",
    "\n",
    "rknn = RKNN()\n",
    "rknn.load_onnx(model='resnet18.onnx')\n",
    "\n",
    "# 加载校准数据\n",
    "rknn.build(do_quantization=True, dataset='dataset.txt')\n",
    "\n",
    "rknn.export_rknn('resnet18.rknn')\n"
   ]
  }
 ],
 "metadata": {
  "kernelspec": {
   "display_name": "yolo_det",
   "language": "python",
   "name": "python3"
  },
  "language_info": {
   "codemirror_mode": {
    "name": "ipython",
    "version": 3
   },
   "file_extension": ".py",
   "mimetype": "text/x-python",
   "name": "python",
   "nbconvert_exporter": "python",
   "pygments_lexer": "ipython3",
   "version": "3.9.21"
  }
 },
 "nbformat": 4,
 "nbformat_minor": 5
}
